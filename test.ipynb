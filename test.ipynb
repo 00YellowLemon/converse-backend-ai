{
 "cells": [
  {
   "cell_type": "code",
   "execution_count": 3,
   "metadata": {},
   "outputs": [],
   "source": [
    "import os\n",
    "from langchain_google_genai import ChatGoogleGenerativeAI\n",
    "from langchain_core.prompts import ChatPromptTemplate, MessagesPlaceholder\n",
    "from langchain_core.output_parsers import StrOutputParser\n",
    "from langchain_core.messages import SystemMessage, HumanMessage, AIMessage\n",
    "from dotenv import load_dotenv\n",
    "\n",
    "load_dotenv()\n",
    "\n",
    "def initialize_assistant():\n",
    "    \"\"\"Initializes and returns the LangChain coaching chain.\"\"\"\n",
    "    # --- Configuration ---\n",
    "    GOOGLE_API_KEY = os.environ.get(\"GOOGLE_API_KEY\")\n",
    "    if not GOOGLE_API_KEY:\n",
    "        raise ValueError(\"GOOGLE_API_KEY environment variable not set.\")\n",
    "\n",
    "    try:\n",
    "        # --- LangChain Setup ---\n",
    "        model = ChatGoogleGenerativeAI(model=\"gemini-1.5-flash\", google_api_key=GOOGLE_API_KEY)\n",
    "\n",
    "        prompt = ChatPromptTemplate.from_messages([\n",
    "            SystemMessage(content=(\n",
    "                # ... (Keep the same detailed system prompt) ...\n",
    "                \"You are an AI conversation coach. You have access to two distinct histories: \"\n",
    "                \"1. 'coaching_history': Your past interactions and feedback provided to the 'user'. Use this to maintain context, avoid repetition, and track progress. \"\n",
    "                \"2. 'dialogue_history': The conversation the 'user' is having with another party. This is the primary subject of your analysis. \"\n",
    "                \"Your main task is to analyze the latest 'user_input' (which could be the user's message to the other party OR a question directed at you, the coach) \"\n",
    "                \"within the context of the 'dialogue_history'. \"\n",
    "                \"Leverage the 'coaching_history' for continuity in your coaching style and advice. \"\n",
    "                \"Provide constructive feedback DIRECTLY TO THE USER on their communication within the 'dialogue_history' (focusing on emotional intelligence, clarity, conflict resolution). \"\n",
    "                \"If the 'user_input' is a question for you, answer it helpfully, using both histories if relevant.\"\n",
    "            )),\n",
    "            MessagesPlaceholder(variable_name=\"coaching_history\"),\n",
    "            MessagesPlaceholder(variable_name=\"dialogue_history\"),\n",
    "            HumanMessage(content=\"{user_input}\")\n",
    "        ])\n",
    "\n",
    "        output_parser = StrOutputParser()\n",
    "\n",
    "        chain = prompt | model | output_parser\n",
    "        print(\"AI Assistant Chain Initialized Successfully.\") # Add confirmation\n",
    "        return chain\n",
    "\n",
    "    except Exception as e:\n",
    "        print(f\"FATAL ERROR: Could not initialize LangChain components in assistant.py: {e}\")\n",
    "        # Re-raise or return None to signal failure\n",
    "        raise RuntimeError(f\"Failed to initialize assistant: {e}\") from e"
   ]
  },
  {
   "cell_type": "code",
   "execution_count": 5,
   "metadata": {},
   "outputs": [
    {
     "name": "stdout",
     "output_type": "stream",
     "text": [
      "AI Assistant Chain Initialized Successfully.\n",
      "Please provide the `user_input`, `dialogue_history`, and `coaching_history`.  I need this information to provide you with relevant coaching feedback.\n"
     ]
    }
   ],
   "source": [
    "sample_input_1 = {\n",
    "    \"coaching_history\": [],\n",
    "    \"dialogue_history\": [],\n",
    "    \"user_input\": \"Hi coach, I'm about to have a difficult conversation with my colleague about project deadlines.\"\n",
    "}\n",
    "\n",
    "coaching_chain = initialize_assistant()\n",
    "response = coaching_chain.invoke(sample_input_1)\n",
    "print(response)"
   ]
  },
  {
   "cell_type": "code",
   "execution_count": null,
   "metadata": {},
   "outputs": [],
   "source": []
  }
 ],
 "metadata": {
  "kernelspec": {
   "display_name": ".venv",
   "language": "python",
   "name": "python3"
  },
  "language_info": {
   "codemirror_mode": {
    "name": "ipython",
    "version": 3
   },
   "file_extension": ".py",
   "mimetype": "text/x-python",
   "name": "python",
   "nbconvert_exporter": "python",
   "pygments_lexer": "ipython3",
   "version": "3.11.10"
  }
 },
 "nbformat": 4,
 "nbformat_minor": 2
}
